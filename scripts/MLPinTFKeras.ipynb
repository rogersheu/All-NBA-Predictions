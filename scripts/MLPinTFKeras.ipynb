{
 "cells": [
  {
   "cell_type": "markdown",
   "id": "46ff009f",
   "metadata": {},
   "source": [
    "##### All-Star/NBA Predictions\n",
    "\n",
    "MLP implementation with Tensorflow and Keras"
   ]
  },
  {
   "cell_type": "code",
   "execution_count": 181,
   "id": "a8a9ad9c",
   "metadata": {},
   "outputs": [],
   "source": [
    "import tensorflow as tf\n",
    "import numpy as np\n",
    "import pandas as pd\n",
    "from sklearn.model_selection import train_test_split\n",
    "from sklearn.metrics import confusion_matrix, classification_report\n",
    "from sklearn.preprocessing import StandardScaler\n",
    "from tensorflow.keras.activations import relu, sigmoid\n",
    "from tensorflow.keras.models import Sequential\n",
    "from tensorflow.keras.layers import Dense"
   ]
  },
  {
   "cell_type": "code",
   "execution_count": 4,
   "id": "4c7b0a86",
   "metadata": {},
   "outputs": [
    {
     "name": "stdout",
     "output_type": "stream",
     "text": [
      "All players data loaded.\n"
     ]
    }
   ],
   "source": [
    "fileName = 'C:/Users/Roger/Documents/GitHub/All-Star-Predictions/baseData/ML/all_stats_20211201.csv'\n",
    "df = pd.read_csv(fileName)\n",
    "print('All players data loaded.')\n",
    "\n",
    "X = df[['RPG','APG','SBPG','PPG','TS','WS48','Perc']]\n",
    "y = df['allLeague']"
   ]
  },
  {
   "cell_type": "code",
   "execution_count": 313,
   "id": "eec6ee9c",
   "metadata": {},
   "outputs": [],
   "source": [
    "X_train, X_test, y_train, y_test = train_test_split(X, y, test_size=0.2, stratify = y)\n",
    "\n"
   ]
  },
  {
   "cell_type": "code",
   "execution_count": 326,
   "id": "1ece77ad",
   "metadata": {},
   "outputs": [],
   "source": [
    "scaler = StandardScaler()\n",
    "X_train = scaler.fit_transform(X_train)\n",
    "X_test = scaler.transform(X_test)\n",
    "\n",
    "\n",
    "#X_train = tf.keras.utils.normalize(X_train, axis=1)\n",
    "#X_test = tf.keras.utils.normalize(X_test, axis=1)"
   ]
  },
  {
   "cell_type": "code",
   "execution_count": 344,
   "id": "4a8a80aa",
   "metadata": {},
   "outputs": [],
   "source": [
    "model = tf.keras.models.Sequential()\n",
    "\n",
    "model.add(Dense(4, activation='relu', name = \"hidden1\"))\n",
    "\n",
    "#model.add(Dense(2, activation='relu', name = \"hidden1\"))\n",
    "#model.add(Dense(2, activation='relu', name = \"hidden2\"))\n",
    "model.add(Dense(1, activation='sigmoid', name = \"sigmoid\"))"
   ]
  },
  {
   "cell_type": "code",
   "execution_count": 345,
   "id": "60060c4b",
   "metadata": {},
   "outputs": [],
   "source": [
    "model.compile(optimizer='adam',\n",
    "             loss=\"binary_crossentropy\",\n",
    "             metrics='accuracy')"
   ]
  },
  {
   "cell_type": "code",
   "execution_count": 353,
   "id": "3edf7482",
   "metadata": {},
   "outputs": [],
   "source": [
    "# Remove 'verbose=0' to see training epochs\n",
    "model.fit(X_train, y_train, verbose=0, epochs=100);"
   ]
  },
  {
   "cell_type": "code",
   "execution_count": 354,
   "id": "9ed3b58a",
   "metadata": {},
   "outputs": [
    {
     "name": "stdout",
     "output_type": "stream",
     "text": [
      "47/47 [==============================] - 0s 457us/step - loss: 0.1430 - accuracy: 0.9434\n",
      "0.14304234087467194 0.9434343576431274\n"
     ]
    }
   ],
   "source": [
    "val_loss, val_acc = model.evaluate(X_test, y_test)\n",
    "print(val_loss, val_acc)"
   ]
  },
  {
   "cell_type": "code",
   "execution_count": 355,
   "id": "a6fffc9b",
   "metadata": {},
   "outputs": [],
   "source": [
    "y_true, y_pred = y_test, model.predict(X_test)\n",
    "\n",
    "y_pred_bin = np.zeros([len(y_pred),1], dtype=int)"
   ]
  },
  {
   "cell_type": "code",
   "execution_count": 356,
   "id": "a6e71df1",
   "metadata": {},
   "outputs": [
    {
     "name": "stdout",
     "output_type": "stream",
     "text": [
      "[[1253   24]\n",
      " [  60  148]]\n"
     ]
    }
   ],
   "source": [
    "for index, item in enumerate(y_pred):\n",
    "    #print(item)\n",
    "    if item > 0.5:\n",
    "        y_pred_bin[index] = [1]\n",
    "    else:\n",
    "        y_pred_bin[index] = [0]\n",
    "        \n",
    "print(confusion_matrix(y_true, y_pred_bin))"
   ]
  },
  {
   "cell_type": "code",
   "execution_count": 357,
   "id": "6af69cb8",
   "metadata": {},
   "outputs": [
    {
     "name": "stdout",
     "output_type": "stream",
     "text": [
      "              precision    recall  f1-score   support\n",
      "\n",
      "           0       0.95      0.98      0.97      1277\n",
      "           1       0.86      0.71      0.78       208\n",
      "\n",
      "    accuracy                           0.94      1485\n",
      "   macro avg       0.91      0.85      0.87      1485\n",
      "weighted avg       0.94      0.94      0.94      1485\n",
      "\n"
     ]
    }
   ],
   "source": [
    "print(classification_report(y_true, y_pred_bin))"
   ]
  },
  {
   "cell_type": "code",
   "execution_count": 324,
   "id": "6564fc9b",
   "metadata": {},
   "outputs": [],
   "source": [
    "df_2022 = pd.read_csv(\"C:/Users/Roger/Documents/GitHub/All-Star-Predictions/baseData/dailystats/2022-01-06/stats_20220106.csv\")\n",
    "X_2022 = df_2022[['RPG','APG','SBPG','PPG','TS','WS48','Perc']]\n",
    "#X_2022 = tf.keras.utils.normalize(X_2022, axis=1)"
   ]
  },
  {
   "cell_type": "code",
   "execution_count": 325,
   "id": "85da020c",
   "metadata": {},
   "outputs": [
    {
     "data": {
      "text/html": [
       "<div>\n",
       "<style scoped>\n",
       "    .dataframe tbody tr th:only-of-type {\n",
       "        vertical-align: middle;\n",
       "    }\n",
       "\n",
       "    .dataframe tbody tr th {\n",
       "        vertical-align: top;\n",
       "    }\n",
       "\n",
       "    .dataframe thead th {\n",
       "        text-align: right;\n",
       "    }\n",
       "</style>\n",
       "<table border=\"1\" class=\"dataframe\">\n",
       "  <thead>\n",
       "    <tr style=\"text-align: right;\">\n",
       "      <th></th>\n",
       "      <th>Player</th>\n",
       "      <th>Year</th>\n",
       "      <th>G</th>\n",
       "      <th>MP</th>\n",
       "      <th>MPG</th>\n",
       "      <th>RPG</th>\n",
       "      <th>APG</th>\n",
       "      <th>SBPG</th>\n",
       "      <th>PPG</th>\n",
       "      <th>TS</th>\n",
       "      <th>rTS</th>\n",
       "      <th>WS48</th>\n",
       "      <th>Perc</th>\n",
       "      <th>Prob</th>\n",
       "    </tr>\n",
       "  </thead>\n",
       "  <tbody>\n",
       "    <tr>\n",
       "      <th>0</th>\n",
       "      <td>Precious Achiuwa</td>\n",
       "      <td>2022</td>\n",
       "      <td>26</td>\n",
       "      <td>641</td>\n",
       "      <td>25.1</td>\n",
       "      <td>7.8</td>\n",
       "      <td>1.6</td>\n",
       "      <td>1.1</td>\n",
       "      <td>8.1</td>\n",
       "      <td>0.439</td>\n",
       "      <td>-0.118</td>\n",
       "      <td>0.039</td>\n",
       "      <td>0.514</td>\n",
       "      <td>0.003386</td>\n",
       "    </tr>\n",
       "    <tr>\n",
       "      <th>1</th>\n",
       "      <td>Steven Adams</td>\n",
       "      <td>2022</td>\n",
       "      <td>39</td>\n",
       "      <td>1004</td>\n",
       "      <td>26.2</td>\n",
       "      <td>9.4</td>\n",
       "      <td>3.0</td>\n",
       "      <td>1.4</td>\n",
       "      <td>7.2</td>\n",
       "      <td>0.568</td>\n",
       "      <td>0.011</td>\n",
       "      <td>0.148</td>\n",
       "      <td>0.641</td>\n",
       "      <td>0.006288</td>\n",
       "    </tr>\n",
       "    <tr>\n",
       "      <th>2</th>\n",
       "      <td>Nickeil Alexander-Walker</td>\n",
       "      <td>2022</td>\n",
       "      <td>35</td>\n",
       "      <td>968</td>\n",
       "      <td>28.2</td>\n",
       "      <td>3.8</td>\n",
       "      <td>2.6</td>\n",
       "      <td>1.3</td>\n",
       "      <td>13.8</td>\n",
       "      <td>0.464</td>\n",
       "      <td>-0.093</td>\n",
       "      <td>-0.013</td>\n",
       "      <td>0.342</td>\n",
       "      <td>0.005368</td>\n",
       "    </tr>\n",
       "    <tr>\n",
       "      <th>3</th>\n",
       "      <td>Grayson Allen</td>\n",
       "      <td>2022</td>\n",
       "      <td>36</td>\n",
       "      <td>1023</td>\n",
       "      <td>28.9</td>\n",
       "      <td>3.4</td>\n",
       "      <td>1.4</td>\n",
       "      <td>1.2</td>\n",
       "      <td>12.1</td>\n",
       "      <td>0.572</td>\n",
       "      <td>0.015</td>\n",
       "      <td>0.107</td>\n",
       "      <td>0.625</td>\n",
       "      <td>0.002272</td>\n",
       "    </tr>\n",
       "    <tr>\n",
       "      <th>4</th>\n",
       "      <td>Jarrett Allen</td>\n",
       "      <td>2022</td>\n",
       "      <td>31</td>\n",
       "      <td>1016</td>\n",
       "      <td>33.4</td>\n",
       "      <td>10.9</td>\n",
       "      <td>1.9</td>\n",
       "      <td>2.4</td>\n",
       "      <td>17.4</td>\n",
       "      <td>0.720</td>\n",
       "      <td>0.163</td>\n",
       "      <td>0.258</td>\n",
       "      <td>0.553</td>\n",
       "      <td>0.163855</td>\n",
       "    </tr>\n",
       "    <tr>\n",
       "      <th>...</th>\n",
       "      <td>...</td>\n",
       "      <td>...</td>\n",
       "      <td>...</td>\n",
       "      <td>...</td>\n",
       "      <td>...</td>\n",
       "      <td>...</td>\n",
       "      <td>...</td>\n",
       "      <td>...</td>\n",
       "      <td>...</td>\n",
       "      <td>...</td>\n",
       "      <td>...</td>\n",
       "      <td>...</td>\n",
       "      <td>...</td>\n",
       "      <td>...</td>\n",
       "    </tr>\n",
       "    <tr>\n",
       "      <th>190</th>\n",
       "      <td>Kenrich Williams</td>\n",
       "      <td>2022</td>\n",
       "      <td>34</td>\n",
       "      <td>708</td>\n",
       "      <td>21.2</td>\n",
       "      <td>4.0</td>\n",
       "      <td>1.9</td>\n",
       "      <td>1.1</td>\n",
       "      <td>7.2</td>\n",
       "      <td>0.534</td>\n",
       "      <td>-0.023</td>\n",
       "      <td>0.096</td>\n",
       "      <td>0.351</td>\n",
       "      <td>0.000594</td>\n",
       "    </tr>\n",
       "    <tr>\n",
       "      <th>191</th>\n",
       "      <td>Robert Williams</td>\n",
       "      <td>2022</td>\n",
       "      <td>29</td>\n",
       "      <td>829</td>\n",
       "      <td>29.1</td>\n",
       "      <td>9.1</td>\n",
       "      <td>1.8</td>\n",
       "      <td>2.7</td>\n",
       "      <td>10.0</td>\n",
       "      <td>0.737</td>\n",
       "      <td>0.180</td>\n",
       "      <td>0.224</td>\n",
       "      <td>0.474</td>\n",
       "      <td>0.007248</td>\n",
       "    </tr>\n",
       "    <tr>\n",
       "      <th>192</th>\n",
       "      <td>Christian Wood</td>\n",
       "      <td>2022</td>\n",
       "      <td>36</td>\n",
       "      <td>1112</td>\n",
       "      <td>31.5</td>\n",
       "      <td>10.6</td>\n",
       "      <td>2.2</td>\n",
       "      <td>1.6</td>\n",
       "      <td>17.3</td>\n",
       "      <td>0.556</td>\n",
       "      <td>-0.001</td>\n",
       "      <td>0.091</td>\n",
       "      <td>0.282</td>\n",
       "      <td>0.102544</td>\n",
       "    </tr>\n",
       "    <tr>\n",
       "      <th>193</th>\n",
       "      <td>Trae Young</td>\n",
       "      <td>2022</td>\n",
       "      <td>33</td>\n",
       "      <td>1143</td>\n",
       "      <td>35.3</td>\n",
       "      <td>4.0</td>\n",
       "      <td>9.7</td>\n",
       "      <td>1.0</td>\n",
       "      <td>28.9</td>\n",
       "      <td>0.588</td>\n",
       "      <td>0.031</td>\n",
       "      <td>0.179</td>\n",
       "      <td>0.459</td>\n",
       "      <td>0.621039</td>\n",
       "    </tr>\n",
       "    <tr>\n",
       "      <th>194</th>\n",
       "      <td>Ivica Zubac</td>\n",
       "      <td>2022</td>\n",
       "      <td>35</td>\n",
       "      <td>876</td>\n",
       "      <td>25.5</td>\n",
       "      <td>8.4</td>\n",
       "      <td>1.1</td>\n",
       "      <td>1.7</td>\n",
       "      <td>9.8</td>\n",
       "      <td>0.694</td>\n",
       "      <td>0.137</td>\n",
       "      <td>0.203</td>\n",
       "      <td>0.500</td>\n",
       "      <td>0.003408</td>\n",
       "    </tr>\n",
       "  </tbody>\n",
       "</table>\n",
       "<p>195 rows × 14 columns</p>\n",
       "</div>"
      ],
      "text/plain": [
       "                       Player  Year   G    MP   MPG   RPG  APG  SBPG   PPG  \\\n",
       "0            Precious Achiuwa  2022  26   641  25.1   7.8  1.6   1.1   8.1   \n",
       "1                Steven Adams  2022  39  1004  26.2   9.4  3.0   1.4   7.2   \n",
       "2    Nickeil Alexander-Walker  2022  35   968  28.2   3.8  2.6   1.3  13.8   \n",
       "3               Grayson Allen  2022  36  1023  28.9   3.4  1.4   1.2  12.1   \n",
       "4               Jarrett Allen  2022  31  1016  33.4  10.9  1.9   2.4  17.4   \n",
       "..                        ...   ...  ..   ...   ...   ...  ...   ...   ...   \n",
       "190          Kenrich Williams  2022  34   708  21.2   4.0  1.9   1.1   7.2   \n",
       "191           Robert Williams  2022  29   829  29.1   9.1  1.8   2.7  10.0   \n",
       "192            Christian Wood  2022  36  1112  31.5  10.6  2.2   1.6  17.3   \n",
       "193                Trae Young  2022  33  1143  35.3   4.0  9.7   1.0  28.9   \n",
       "194               Ivica Zubac  2022  35   876  25.5   8.4  1.1   1.7   9.8   \n",
       "\n",
       "        TS    rTS   WS48   Perc      Prob  \n",
       "0    0.439 -0.118  0.039  0.514  0.003386  \n",
       "1    0.568  0.011  0.148  0.641  0.006288  \n",
       "2    0.464 -0.093 -0.013  0.342  0.005368  \n",
       "3    0.572  0.015  0.107  0.625  0.002272  \n",
       "4    0.720  0.163  0.258  0.553  0.163855  \n",
       "..     ...    ...    ...    ...       ...  \n",
       "190  0.534 -0.023  0.096  0.351  0.000594  \n",
       "191  0.737  0.180  0.224  0.474  0.007248  \n",
       "192  0.556 -0.001  0.091  0.282  0.102544  \n",
       "193  0.588  0.031  0.179  0.459  0.621039  \n",
       "194  0.694  0.137  0.203  0.500  0.003408  \n",
       "\n",
       "[195 rows x 14 columns]"
      ]
     },
     "execution_count": 325,
     "metadata": {},
     "output_type": "execute_result"
    }
   ],
   "source": [
    "df_2022pred = df_2022.copy()\n",
    "X_predicted = model.predict(X_2022)\n",
    "df_2022pred['Prob'] = [i[0] for i in X_predicted]\n",
    "df_2022pred"
   ]
  },
  {
   "cell_type": "code",
   "execution_count": null,
   "id": "c21eba9d",
   "metadata": {},
   "outputs": [],
   "source": []
  }
 ],
 "metadata": {
  "kernelspec": {
   "display_name": "Python 3",
   "language": "python",
   "name": "python3"
  },
  "language_info": {
   "codemirror_mode": {
    "name": "ipython",
    "version": 3
   },
   "file_extension": ".py",
   "mimetype": "text/x-python",
   "name": "python",
   "nbconvert_exporter": "python",
   "pygments_lexer": "ipython3",
   "version": "3.8.8"
  }
 },
 "nbformat": 4,
 "nbformat_minor": 5
}
