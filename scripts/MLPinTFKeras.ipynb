{
 "cells": [
  {
   "cell_type": "markdown",
   "id": "46ff009f",
   "metadata": {},
   "source": [
    "##### All-Star/NBA Predictions\n",
    "\n",
    "MLP implementation with Tensorflow and Keras"
   ]
  },
  {
   "cell_type": "code",
   "execution_count": 181,
   "id": "a8a9ad9c",
   "metadata": {},
   "outputs": [],
   "source": [
    "import tensorflow as tf\n",
    "import numpy as np\n",
    "import pandas as pd\n",
    "from sklearn.model_selection import train_test_split\n",
    "from sklearn.metrics import confusion_matrix, classification_report\n",
    "from sklearn.preprocessing import StandardScaler\n",
    "from tensorflow.keras.activations import relu, sigmoid\n",
    "from tensorflow.keras.models import Sequential\n",
    "from tensorflow.keras.layers import Dense"
   ]
  },
  {
   "cell_type": "code",
   "execution_count": 4,
   "id": "4c7b0a86",
   "metadata": {},
   "outputs": [
    {
     "name": "stdout",
     "output_type": "stream",
     "text": [
      "All players data loaded.\n"
     ]
    }
   ],
   "source": [
    "fileName = 'C:/Users/Roger/Documents/GitHub/All-Star-Predictions/baseData/ML/all_stats_20211201.csv'\n",
    "df = pd.read_csv(fileName)\n",
    "print('All players data loaded.')\n",
    "\n",
    "X = df[['RPG','APG','SBPG','PPG','TS','WS48','Perc']]\n",
    "y = df['allLeague']"
   ]
  },
  {
   "cell_type": "code",
   "execution_count": 313,
   "id": "eec6ee9c",
   "metadata": {},
   "outputs": [],
   "source": [
    "X_train, X_test, y_train, y_test = train_test_split(X, y, test_size=0.2, stratify = y)\n",
    "\n"
   ]
  },
  {
   "cell_type": "code",
   "execution_count": 326,
   "id": "eb8cdb48",
   "metadata": {},
   "outputs": [],
   "source": [
    "scaler = StandardScaler()\n",
    "X_train = scaler.fit_transform(X_train)\n",
    "X_test = scaler.transform(X_test)\n",
    "\n",
    "\n",
    "#X_train = tf.keras.utils.normalize(X_train, axis=1)\n",
    "#X_test = tf.keras.utils.normalize(X_test, axis=1)"
   ]
  },
  {
   "cell_type": "code",
   "execution_count": 344,
   "id": "4a8a80aa",
   "metadata": {},
   "outputs": [],
   "source": [
    "model = tf.keras.models.Sequential()\n",
    "\n",
    "model.add(Dense(4, activation='relu', name = \"hidden1\"))\n",
    "\n",
    "#model.add(Dense(2, activation='relu', name = \"hidden1\"))\n",
    "#model.add(Dense(2, activation='relu', name = \"hidden2\"))\n",
    "model.add(Dense(1, activation='sigmoid', name = \"sigmoid\"))"
   ]
  },
  {
   "cell_type": "code",
   "execution_count": 345,
   "id": "60060c4b",
   "metadata": {},
   "outputs": [],
   "source": [
    "model.compile(optimizer='adam',\n",
    "             loss=\"binary_crossentropy\",\n",
    "             metrics='accuracy')"
   ]
  },
  {
   "cell_type": "code",
   "execution_count": 353,
   "id": "3edf7482",
   "metadata": {},
   "outputs": [],
   "source": [
    "# Remove 'verbose=0' to see training epochs\n",
    "model.fit(X_train, y_train, verbose=0, epochs=100);"
   ]
  },
  {
   "cell_type": "code",
   "execution_count": 354,
   "id": "9ed3b58a",
   "metadata": {},
   "outputs": [
    {
     "name": "stdout",
     "output_type": "stream",
     "text": [
      "47/47 [==============================] - 0s 457us/step - loss: 0.1430 - accuracy: 0.9434\n",
      "0.14304234087467194 0.9434343576431274\n"
     ]
    }
   ],
   "source": [
    "val_loss, val_acc = model.evaluate(X_test, y_test)\n",
    "print(val_loss, val_acc)"
   ]
  },
  {
   "cell_type": "code",
   "execution_count": 355,
   "id": "a6fffc9b",
   "metadata": {},
   "outputs": [],
   "source": [
    "y_true, y_pred = y_test, model.predict(X_test)\n",
    "\n",
    "y_pred_bin = np.zeros([len(y_pred),1], dtype=int)"
   ]
  },
  {
   "cell_type": "code",
   "execution_count": 356,
   "id": "a6e71df1",
   "metadata": {},
   "outputs": [
    {
     "name": "stdout",
     "output_type": "stream",
     "text": [
      "[[1253   24]\n",
      " [  60  148]]\n"
     ]
    }
   ],
   "source": [
    "for index, item in enumerate(y_pred):\n",
    "    #print(item)\n",
    "    if item > 0.5:\n",
    "        y_pred_bin[index] = [1]\n",
    "    else:\n",
    "        y_pred_bin[index] = [0]\n",
    "        \n",
    "print(confusion_matrix(y_true, y_pred_bin))"
   ]
  },
  {
   "cell_type": "code",
   "execution_count": 357,
   "id": "6af69cb8",
   "metadata": {},
   "outputs": [
    {
     "name": "stdout",
     "output_type": "stream",
     "text": [
      "              precision    recall  f1-score   support\n",
      "\n",
      "           0       0.95      0.98      0.97      1277\n",
      "           1       0.86      0.71      0.78       208\n",
      "\n",
      "    accuracy                           0.94      1485\n",
      "   macro avg       0.91      0.85      0.87      1485\n",
      "weighted avg       0.94      0.94      0.94      1485\n",
      "\n"
     ]
    }
   ],
   "source": [
    "print(classification_report(y_true, y_pred_bin))"
   ]
  },
  {
   "cell_type": "code",
   "execution_count": 324,
   "id": "167abec1",
   "metadata": {},
   "outputs": [],
   "source": [
    "df_2022 = pd.read_csv(\"C:/Users/Roger/Documents/GitHub/All-Star-Predictions/baseData/dailystats/2022-01-06/stats_20220106.csv\")\n",
    "X_2022 = df_2022[['RPG','APG','SBPG','PPG','TS','WS48','Perc']]\n",
    "#X_2022 = tf.keras.utils.normalize(X_2022, axis=1)"
   ]
  },
  {
   "cell_type": "code",
   "execution_count": 358,
   "id": "85da020c",
   "metadata": {},
   "outputs": [],
   "source": [
    "df_2022pred = df_2022.copy()\n",
    "X_predicted = model.predict(X_2022)\n",
    "df_2022pred['Prob'] = [i[0] for i in X_predicted]\n",
    "df_2022pred; # Export to target CSV if so desired"
   ]
  },
  {
   "cell_type": "code",
   "execution_count": null,
   "id": "db212ecd",
   "metadata": {},
   "outputs": [],
   "source": []
  }
 ],
 "metadata": {
  "kernelspec": {
   "display_name": "Python 3",
   "language": "python",
   "name": "python3"
  },
  "language_info": {
   "codemirror_mode": {
    "name": "ipython",
    "version": 3
   },
   "file_extension": ".py",
   "mimetype": "text/x-python",
   "name": "python",
   "nbconvert_exporter": "python",
   "pygments_lexer": "ipython3",
   "version": "3.8.8"
  }
 },
 "nbformat": 4,
 "nbformat_minor": 5
}
